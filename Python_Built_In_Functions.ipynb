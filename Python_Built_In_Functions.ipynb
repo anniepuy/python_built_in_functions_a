{
 "cells": [
  {
   "cell_type": "markdown",
   "id": "b860a22d-b423-48ec-b44c-3a0deffee706",
   "metadata": {},
   "source": [
    "# Python Built In Functions\n",
    "Functions that fall into the 'A' category\n"
   ]
  },
  {
   "cell_type": "markdown",
   "id": "9e928c08-5f8e-4b99-80c0-faa2e51baa14",
   "metadata": {},
   "source": [
    "### abs()\n",
    "Returns the absolute value of a number. The argument may be an integer, a floating-point number, or an object implementing __abs__(). \n",
    "If the argument is a complex number, its magnitude is returned."
   ]
  },
  {
   "cell_type": "code",
   "execution_count": 2,
   "id": "3ff4a02c-c26b-41f1-b9ae-da882966c8dd",
   "metadata": {},
   "outputs": [
    {
     "data": {
      "text/plain": [
       "4"
      ]
     },
     "execution_count": 2,
     "metadata": {},
     "output_type": "execute_result"
    }
   ],
   "source": [
    "from decimal import Decimal\n",
    "from fractions import Fraction\n",
    "\n",
    "abs(-4)"
   ]
  },
  {
   "cell_type": "code",
   "execution_count": 3,
   "id": "e8cbfdd2-fd08-485b-9d28-c61c679405c2",
   "metadata": {},
   "outputs": [
    {
     "data": {
      "text/plain": [
       "3.605551275463989"
      ]
     },
     "execution_count": 3,
     "metadata": {},
     "output_type": "execute_result"
    }
   ],
   "source": [
    "abs(complex(\"2+3j\"))\n"
   ]
  },
  {
   "cell_type": "code",
   "execution_count": 4,
   "id": "eb02fc32-bae7-4811-83fa-4e6ad89460d1",
   "metadata": {},
   "outputs": [
    {
     "data": {
      "text/plain": [
       "Fraction(1, 2)"
      ]
     },
     "execution_count": 4,
     "metadata": {},
     "output_type": "execute_result"
    }
   ],
   "source": [
    "abs(Fraction(\"-1/2\"))"
   ]
  },
  {
   "cell_type": "code",
   "execution_count": 5,
   "id": "281e0ce9-0484-4c43-b5af-2fa2d4e6eab9",
   "metadata": {},
   "outputs": [
    {
     "data": {
      "text/plain": [
       "Decimal('0.05')"
      ]
     },
     "execution_count": 5,
     "metadata": {},
     "output_type": "execute_result"
    }
   ],
   "source": [
    "abs(Decimal(\"-.05\"))"
   ]
  },
  {
   "cell_type": "code",
   "execution_count": 9,
   "id": "23ba404d-a4c3-4b66-8ae3-067641e6b02b",
   "metadata": {},
   "outputs": [
    {
     "name": "stdout",
     "output_type": "stream",
     "text": [
      "4.333333333333333\n"
     ]
    }
   ],
   "source": [
    "#### Real world use cases\n",
    "#In a regression task, abs() may be used to caluculate the Mean Aboslute Error(MAE):\n",
    "\n",
    "from sklearn.metrics import mean_absolute_error\n",
    "y_true = [10, 10, 30]\n",
    "y_pred = [12, 18, 33]\n",
    "mae = mean_absolute_error(y_true, y_pred)\n",
    "print(mae)"
   ]
  },
  {
   "cell_type": "code",
   "execution_count": 42,
   "id": "f6b11633-a485-4068-9776-d5e770b09aad",
   "metadata": {},
   "outputs": [
    {
     "name": "stdout",
     "output_type": "stream",
     "text": [
      "7\n"
     ]
    }
   ],
   "source": [
    "# Caluculate the distance between two coordinates in a grid\n",
    "x1, x2 = 4, -3\n",
    "distance = abs(x2 -x1)\n",
    "print(distance)"
   ]
  },
  {
   "cell_type": "code",
   "execution_count": null,
   "id": "6911bccb-0b06-45b8-b006-176664eefa6b",
   "metadata": {},
   "outputs": [],
   "source": [
    "## aiter()\n",
    "Stands for asyncronous iterator a special helper with data that comes in slowly over time. Like messages or sensor data."
   ]
  },
  {
   "cell_type": "markdown",
   "id": "6a84f43d-ed67-411e-97f8-9306f92cac8d",
   "metadata": {},
   "source": [
    "### Examples\n",
    "Normal loops we have variables that already exist. But sometimes we need to iterate over items as they arrive and we have to wait."
   ]
  },
  {
   "cell_type": "code",
   "execution_count": null,
   "id": "2e61184d-3051-451f-a870-8c06beca1a66",
   "metadata": {},
   "outputs": [],
   "source": [
    "# We import asyncio to simulate asynchronous operations and random to simulate variable delay (like real-world latency).\n",
    "# We use asyncio.sleep() to slow down the flow of the messages"
   ]
  },
  {
   "cell_type": "code",
   "execution_count": 44,
   "id": "e58f1f72-151b-4184-9c9d-d678ee7214bc",
   "metadata": {},
   "outputs": [
    {
     "name": "stdout",
     "output_type": "stream",
     "text": [
      "[Chat Stream] Welcome to the team!\n",
      "[Chat Stream] Deployment was successful.\n",
      "[Chat Stream] Reminder: Maintenance at 3PM.\n",
      "[Chat Stream] Don't forget to fill out the timesheet.\n",
      "[Chat Stream] Have a great weekend!\n"
     ]
    }
   ],
   "source": [
    "import asyncio\n",
    "import random\n",
    "\n",
    "#This defines a class called AsyncChatStream. It simulates a streaming service — like a live chat feed.\n",
    "class AsyncChatStream:\n",
    "    def __init__(self, messages):\n",
    "        self.messages = messages\n",
    "\n",
    "#Here we reset self.index = 0 so each new loop starts from the beginning.\n",
    "# return self means the class instance will yield the messages — like an iterator.\n",
    "    def __aiter__(self):\n",
    "        self.index = 0\n",
    "        return self\n",
    "\n",
    "#If we’ve already yielded all the messages, we raise StopAsyncIteration. This tells Python, “We’re done!”\n",
    "#This line adds a random delay between 0.5 and 1.0 seconds before sending the next message.\n",
    "    async def __anext__(self):\n",
    "        if self.index >= len(self.messages):\n",
    "            raise StopAsyncIteration\n",
    "        await asyncio.sleep(random.uniform(0.5, 1.0))  # Simulate delay\n",
    "#We grab the current message by index and move the index forward (self.index += 1) so next time it gives the next message.\n",
    "#Then we return the message.\n",
    "        message = self.messages[self.index]\n",
    "        self.index += 1\n",
    "        return message\n",
    "\n",
    "# Create chat stream\n",
    "chat_messages = [\n",
    "    \"Welcome to the team!\",\n",
    "    \"Deployment was successful.\",\n",
    "    \"Reminder: Maintenance at 3PM.\",\n",
    "    \"Don't forget to fill out the timesheet.\",\n",
    "    \"Have a great weekend!\"\n",
    "]\n",
    "\n",
    "#We create a new AsyncChatStream object that will stream those messages.\n",
    "chat_stream = AsyncChatStream(chat_messages)\n",
    "\n",
    "# This works in Jupyter — do not use asyncio.run()\n",
    "#This defines an async function run_chat().\n",
    "#Inside it, we use async for to loop through each message in the stream, waiting for each one to arrive.\n",
    "#We print each message prefixed with [Chat Stream].\n",
    "async def run_chat():\n",
    "    async for msg in chat_stream:\n",
    "        print(f\"[Chat Stream] {msg}\")\n",
    "\n",
    "# Just call the coroutine directly in Jupyter\n",
    "await run_chat()\n"
   ]
  },
  {
   "cell_type": "markdown",
   "id": "434d739e-8021-4fc7-aa25-e69cc23dde09",
   "metadata": {},
   "source": [
    "## all()\n",
    "Returns true if all elements in an iterable are empty. Litterally checks to see if every instance is true"
   ]
  },
  {
   "cell_type": "code",
   "execution_count": null,
   "id": "a45efdb3-ba8a-488d-90fb-56cb8eab6404",
   "metadata": {},
   "outputs": [],
   "source": [
    "These values count as False in Python:\n",
    "\t•\tFalse\n",
    "\t•\tNone\n",
    "\t•\t0 (any numeric type)\n",
    "\t•\t\"\" (empty string)\n",
    "\t•\t[], {}, set() (empty collections)"
   ]
  },
  {
   "cell_type": "markdown",
   "id": "58eb4541-a2be-4c38-bca8-baa4379477e6",
   "metadata": {},
   "source": [
    "### Example"
   ]
  },
  {
   "cell_type": "code",
   "execution_count": 20,
   "id": "eec85735-c9a5-4931-b0cf-6d2d574d2b2c",
   "metadata": {},
   "outputs": [
    {
     "data": {
      "text/plain": [
       "True"
      ]
     },
     "execution_count": 20,
     "metadata": {},
     "output_type": "execute_result"
    }
   ],
   "source": [
    "all([\"True\", \"True\", \"True\"])"
   ]
  },
  {
   "cell_type": "code",
   "execution_count": 21,
   "id": "7bdf54c8-35bc-4096-af5a-fef671d4c9ff",
   "metadata": {},
   "outputs": [
    {
     "data": {
      "text/plain": [
       "True"
      ]
     },
     "execution_count": 21,
     "metadata": {},
     "output_type": "execute_result"
    }
   ],
   "source": [
    "all([\"True\", \"True\", \"False\"])"
   ]
  },
  {
   "cell_type": "code",
   "execution_count": 46,
   "id": "d0edaf16-49b4-47a4-8516-101676fe0a43",
   "metadata": {},
   "outputs": [
    {
     "data": {
      "text/plain": [
       "False"
      ]
     },
     "execution_count": 46,
     "metadata": {},
     "output_type": "execute_result"
    }
   ],
   "source": [
    "all([\"hello\", \"\", \"world\"])"
   ]
  },
  {
   "cell_type": "code",
   "execution_count": null,
   "id": "cf9dd2f3-cd2f-44e2-9b50-614a1f0b7346",
   "metadata": {},
   "outputs": [],
   "source": [
    "#With strings (empty string “” is falsy):\n",
    "With strings (empty string “” is falsy):"
   ]
  },
  {
   "cell_type": "code",
   "execution_count": 45,
   "id": "f5659f35-fac6-41b9-8af1-55d55d4ee8bb",
   "metadata": {},
   "outputs": [
    {
     "data": {
      "text/plain": [
       "False"
      ]
     },
     "execution_count": 45,
     "metadata": {},
     "output_type": "execute_result"
    }
   ],
   "source": [
    "names = [\"Alice\", \"Bob\", \"\"]\n",
    "all(len(name) > 0 for name in names) "
   ]
  },
  {
   "cell_type": "markdown",
   "id": "9d465528-c4a1-4ab1-b27a-b41ff7c2a701",
   "metadata": {},
   "source": [
    "## Real world example.\n",
    "Check a server's health\n"
   ]
  },
  {
   "cell_type": "code",
   "execution_count": 22,
   "id": "ae555b2d-018b-464c-a61c-e9e8db900184",
   "metadata": {},
   "outputs": [
    {
     "name": "stdout",
     "output_type": "stream",
     "text": [
      "One or more server's are down!\n"
     ]
    }
   ],
   "source": [
    "server_status= {\n",
    "    \"server_a\" : True,\n",
    "    \"server_b\" : True,\n",
    "    \"server_c\" : False,\n",
    "}\n",
    "\n",
    "if all(server_status.values()):\n",
    "    print(\"All server's are healthy!\")\n",
    "else:\n",
    "    print(\"One or more server's are down!\")"
   ]
  },
  {
   "cell_type": "markdown",
   "id": "b84ab809-e7f1-4672-9874-d2277b6b24a7",
   "metadata": {},
   "source": [
    "#### Password rule checker"
   ]
  },
  {
   "cell_type": "code",
   "execution_count": 49,
   "id": "b30255c0-6458-4743-9ebb-d1ebad8e4329",
   "metadata": {},
   "outputs": [
    {
     "name": "stdout",
     "output_type": "stream",
     "text": [
      "password is weak!\n"
     ]
    }
   ],
   "source": [
    "password = \"Secure123\"\n",
    "\n",
    "rules = [\n",
    "    any(c.isupper() for c in password),\n",
    "    any(c.islower() for c in password),\n",
    "    any(c.isdigit() for c in password),\n",
    "    any(c in \"%!@$%\" for c in password)\n",
    "]\n",
    "\n",
    "if all(rules):\n",
    "    print(\"password is strong!\")\n",
    "else:\n",
    "    print(\"password is weak!\")\n",
    "\n",
    "\n"
   ]
  },
  {
   "cell_type": "markdown",
   "id": "6ca7e31f-cc4f-4f23-82fe-2b437cc22d5e",
   "metadata": {},
   "source": [
    "## any()\n",
    "Returns true if any element of an iterable is true. If empty it returns false"
   ]
  },
  {
   "cell_type": "code",
   "execution_count": 24,
   "id": "bb28f00b-48e0-497e-9f77-6f6aeb11af9e",
   "metadata": {},
   "outputs": [
    {
     "data": {
      "text/plain": [
       "True"
      ]
     },
     "execution_count": 24,
     "metadata": {},
     "output_type": "execute_result"
    }
   ],
   "source": [
    "any([\"True\", \"True\", \"True\"])"
   ]
  },
  {
   "cell_type": "code",
   "execution_count": 25,
   "id": "61e14a4c-e4ed-4995-998b-ed736e9cfb6e",
   "metadata": {},
   "outputs": [
    {
     "data": {
      "text/plain": [
       "True"
      ]
     },
     "execution_count": 25,
     "metadata": {},
     "output_type": "execute_result"
    }
   ],
   "source": [
    "any([\"True\", \"True\", \"False\"])"
   ]
  },
  {
   "cell_type": "code",
   "execution_count": 47,
   "id": "6134fed5-934e-491c-9d90-5cf455924053",
   "metadata": {},
   "outputs": [
    {
     "data": {
      "text/plain": [
       "False"
      ]
     },
     "execution_count": 47,
     "metadata": {},
     "output_type": "execute_result"
    }
   ],
   "source": [
    "any([])"
   ]
  },
  {
   "cell_type": "markdown",
   "id": "68fbaacb-b4be-47c9-84f2-06c64234fcd3",
   "metadata": {},
   "source": [
    "### Example\n",
    "A user must have at least 2FA, fingerprint, or a password"
   ]
  },
  {
   "cell_type": "code",
   "execution_count": 28,
   "id": "20b26592-479f-4f0a-9e95-21137554814d",
   "metadata": {},
   "outputs": [
    {
     "name": "stdout",
     "output_type": "stream",
     "text": [
      "Access Granted\n"
     ]
    }
   ],
   "source": [
    "user_security = {\n",
    "    \"two_factor\": False,\n",
    "    \"fingerprint\": False,\n",
    "    \"passcode\": True\n",
    "}\n",
    "\n",
    "if any(user_security.values()):\n",
    "    print(\"Access Granted\")\n",
    "else:\n",
    "    print(\"Access Denied\")"
   ]
  },
  {
   "cell_type": "code",
   "execution_count": null,
   "id": "c0bf0924-a08e-44fc-9407-049d3b0d43d7",
   "metadata": {},
   "outputs": [],
   "source": []
  },
  {
   "cell_type": "code",
   "execution_count": null,
   "id": "b6a3765f-24f2-45bd-a5f5-4b54036842f4",
   "metadata": {},
   "outputs": [],
   "source": []
  },
  {
   "cell_type": "markdown",
   "id": "ed18b647-7db6-41a5-80c5-abe29f412aa1",
   "metadata": {},
   "source": [
    "## ascii()\n",
    "Turns a string into version that only made up of basic ASCII characters (letters, numbers, symbols) in a US keyboard. Anything\n",
    "else like an emoji is converted to an escape code such as \\UXXX"
   ]
  },
  {
   "cell_type": "markdown",
   "id": "a3a93d7e-ef65-4f86-ad7e-3c03324c7028",
   "metadata": {},
   "source": [
    "### Examples"
   ]
  },
  {
   "cell_type": "code",
   "execution_count": 32,
   "id": "23d8a0e8-7b8e-4eff-9af4-a9b98967273f",
   "metadata": {},
   "outputs": [
    {
     "data": {
      "text/plain": [
       "\"'Hello'\""
      ]
     },
     "execution_count": 32,
     "metadata": {},
     "output_type": "execute_result"
    }
   ],
   "source": [
    "ascii(\"Hello\")"
   ]
  },
  {
   "cell_type": "code",
   "execution_count": 33,
   "id": "4e235b94-336d-40e5-bed8-18c1a8d31589",
   "metadata": {},
   "outputs": [
    {
     "data": {
      "text/plain": [
       "\"'^Hello'\""
      ]
     },
     "execution_count": 33,
     "metadata": {},
     "output_type": "execute_result"
    }
   ],
   "source": [
    "ascii(\"^Hello\")"
   ]
  },
  {
   "cell_type": "code",
   "execution_count": 34,
   "id": "aaf380a3-5934-468e-9fee-e10b991dfa30",
   "metadata": {},
   "outputs": [
    {
     "data": {
      "text/plain": [
       "\"'Hello\\\\U0001f605'\""
      ]
     },
     "execution_count": 34,
     "metadata": {},
     "output_type": "execute_result"
    }
   ],
   "source": [
    "ascii(\"Hello😅\")"
   ]
  },
  {
   "cell_type": "code",
   "execution_count": 36,
   "id": "13d49c9c-0119-4ed8-b67f-3c5cee359dae",
   "metadata": {},
   "outputs": [
    {
     "name": "stdout",
     "output_type": "stream",
     "text": [
      "'Hello from \\U0001f1ee\\U0001f1f8!'\n"
     ]
    }
   ],
   "source": [
    "## We are logging chat messages but need to safely remove any non ASCII characters\n",
    "\n",
    "user_input = \"Hello from 🇮🇸!\"\n",
    "safe_log = ascii(user_input)\n",
    "print(safe_log)"
   ]
  },
  {
   "cell_type": "code",
   "execution_count": 39,
   "id": "9422854a-7063-4e99-918b-7afebd30b8f3",
   "metadata": {},
   "outputs": [
    {
     "ename": "NameError",
     "evalue": "name 'async_iterator' is not defined",
     "output_type": "error",
     "traceback": [
      "\u001b[0;31m---------------------------------------------------------------------------\u001b[0m",
      "\u001b[0;31mNameError\u001b[0m                                 Traceback (most recent call last)",
      "Cell \u001b[0;32mIn[39], line 1\u001b[0m\n\u001b[0;32m----> 1\u001b[0m \u001b[38;5;28;01mawait\u001b[39;00m anext(\u001b[43masync_iterator\u001b[49m, default_value)\n",
      "\u001b[0;31mNameError\u001b[0m: name 'async_iterator' is not defined"
     ]
    }
   ],
   "source": [
    "await anext(async_iterator, default_value)"
   ]
  },
  {
   "cell_type": "code",
   "execution_count": 41,
   "id": "9f7e1993-7bbf-4c77-a4ef-c6fcf4f9526c",
   "metadata": {
    "scrolled": true
   },
   "outputs": [
    {
     "name": "stdout",
     "output_type": "stream",
     "text": [
      "Package #0\n",
      "Package #1\n",
      "Package #2\n",
      " No more packages\n"
     ]
    }
   ],
   "source": [
    "async def demo_anext():\n",
    "    async def simple_generator():\n",
    "        for i in range(3):\n",
    "            yield f\"Package #{i}\"\n",
    "\n",
    "    # Get the async iterator\n",
    "    async_iter = aiter(simple_generator())\n",
    "\n",
    "    # Use anext to retrieve each item\n",
    "    msg1 = await anext(async_iter)\n",
    "    msg2 = await anext(async_iter)\n",
    "    msg3 = await anext(async_iter)\n",
    "    msg4 = await anext(async_iter,\" No more packages\")\n",
    "\n",
    "    print(msg1)\n",
    "    print(msg2)\n",
    "    print(msg3)\n",
    "    print(msg4)\n",
    "\n",
    "# Run it (just use 'await' directly in Jupyter)\n",
    "await demo_anext()"
   ]
  },
  {
   "cell_type": "code",
   "execution_count": null,
   "id": "4766ea5a-c4f1-4cc0-bbae-4384205008f9",
   "metadata": {},
   "outputs": [],
   "source": [
    "Imagine you’re waiting at a mailbox 📬 that gets a letter every few seconds. Instead of opening the mailbox constantly (synchronously with next()), you sit back and wait for it to notify you when something arrives. That’s what anext() helps with — it “awaits” the next thing to arrive!"
   ]
  }
 ],
 "metadata": {
  "kernelspec": {
   "display_name": "Python 3.12",
   "language": "python",
   "name": "satyrn-python312"
  },
  "language_info": {
   "codemirror_mode": {
    "name": "ipython",
    "version": 3
   },
   "file_extension": ".py",
   "mimetype": "text/x-python",
   "name": "python",
   "nbconvert_exporter": "python",
   "pygments_lexer": "ipython3",
   "version": "3.12.6"
  }
 },
 "nbformat": 4,
 "nbformat_minor": 5
}
